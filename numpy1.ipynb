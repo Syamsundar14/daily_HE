{
 "cells": [
  {
   "cell_type": "markdown",
   "id": "68887cab",
   "metadata": {},
   "source": [
    "\n",
    "#  NUMPY"
   ]
  },
  {
   "cell_type": "code",
   "execution_count": 1,
   "id": "9f35c8fa",
   "metadata": {},
   "outputs": [],
   "source": [
    "import numpy as np\n"
   ]
  },
  {
   "cell_type": "code",
   "execution_count": 2,
   "id": "20ff1e8f",
   "metadata": {},
   "outputs": [],
   "source": [
    "my_list=[1,2,3,4,5,6,7]\n",
    "arr=np.array(my_list)"
   ]
  },
  {
   "cell_type": "code",
   "execution_count": 3,
   "id": "a2a22cce",
   "metadata": {},
   "outputs": [
    {
     "data": {
      "text/plain": [
       "numpy.ndarray"
      ]
     },
     "execution_count": 3,
     "metadata": {},
     "output_type": "execute_result"
    }
   ],
   "source": [
    "type(arr)"
   ]
  },
  {
   "cell_type": "code",
   "execution_count": 4,
   "id": "d4341a03",
   "metadata": {},
   "outputs": [
    {
     "data": {
      "text/plain": [
       "array([1, 2, 3, 4, 5, 6, 7])"
      ]
     },
     "execution_count": 4,
     "metadata": {},
     "output_type": "execute_result"
    }
   ],
   "source": [
    "arr"
   ]
  },
  {
   "cell_type": "code",
   "execution_count": 5,
   "id": "845e4e7b",
   "metadata": {},
   "outputs": [
    {
     "data": {
      "text/plain": [
       "array([[1, 2, 3, 4],\n",
       "       [1, 3, 4, 5]])"
      ]
     },
     "execution_count": 5,
     "metadata": {},
     "output_type": "execute_result"
    }
   ],
   "source": [
    "arr2=np.array([[1,2,3,4],[1,3,4,5]])\n",
    "arr2"
   ]
  },
  {
   "cell_type": "code",
   "execution_count": 6,
   "id": "1b088071",
   "metadata": {},
   "outputs": [
    {
     "data": {
      "text/plain": [
       "2"
      ]
     },
     "execution_count": 6,
     "metadata": {},
     "output_type": "execute_result"
    }
   ],
   "source": [
    "arr2.ndim"
   ]
  },
  {
   "cell_type": "code",
   "execution_count": 7,
   "id": "f9452a5a",
   "metadata": {},
   "outputs": [
    {
     "data": {
      "text/plain": [
       "1"
      ]
     },
     "execution_count": 7,
     "metadata": {},
     "output_type": "execute_result"
    }
   ],
   "source": [
    "arr.ndim"
   ]
  },
  {
   "cell_type": "code",
   "execution_count": 8,
   "id": "9e603013",
   "metadata": {},
   "outputs": [
    {
     "data": {
      "text/plain": [
       "(2, 4)"
      ]
     },
     "execution_count": 8,
     "metadata": {},
     "output_type": "execute_result"
    }
   ],
   "source": [
    "arr2.shape"
   ]
  },
  {
   "cell_type": "code",
   "execution_count": 9,
   "id": "fed0569a",
   "metadata": {},
   "outputs": [
    {
     "data": {
      "text/plain": [
       "(7,)"
      ]
     },
     "execution_count": 9,
     "metadata": {},
     "output_type": "execute_result"
    }
   ],
   "source": [
    "arr.shape"
   ]
  },
  {
   "cell_type": "code",
   "execution_count": 10,
   "id": "b97b5d00",
   "metadata": {},
   "outputs": [
    {
     "data": {
      "text/plain": [
       "'1.25.2'"
      ]
     },
     "execution_count": 10,
     "metadata": {},
     "output_type": "execute_result"
    }
   ],
   "source": [
    "np.__version__"
   ]
  },
  {
   "cell_type": "code",
   "execution_count": 12,
   "id": "19ec93dd",
   "metadata": {},
   "outputs": [
    {
     "data": {
      "text/plain": [
       "array([[[1, 2, 3],\n",
       "        [1, 2, 4]],\n",
       "\n",
       "       [[1, 2, 3],\n",
       "        [1, 2, 4]]])"
      ]
     },
     "execution_count": 12,
     "metadata": {},
     "output_type": "execute_result"
    }
   ],
   "source": [
    "arr3=np.array([[[1,2,3],[1,2,4]],[[1,2,3],[1,2,4]]])\n",
    "arr3"
   ]
  },
  {
   "cell_type": "code",
   "execution_count": 13,
   "id": "24b20ab9",
   "metadata": {},
   "outputs": [
    {
     "data": {
      "text/plain": [
       "3"
      ]
     },
     "execution_count": 13,
     "metadata": {},
     "output_type": "execute_result"
    }
   ],
   "source": [
    "arr3.ndim"
   ]
  },
  {
   "cell_type": "code",
   "execution_count": 14,
   "id": "5a474245",
   "metadata": {},
   "outputs": [
    {
     "data": {
      "text/plain": [
       "2"
      ]
     },
     "execution_count": 14,
     "metadata": {},
     "output_type": "execute_result"
    }
   ],
   "source": [
    "arr[1]"
   ]
  },
  {
   "cell_type": "code",
   "execution_count": 15,
   "id": "f5bfa1c3",
   "metadata": {},
   "outputs": [
    {
     "data": {
      "text/plain": [
       "array([[[1, 2, 3],\n",
       "        [1, 2, 4]],\n",
       "\n",
       "       [[1, 2, 3],\n",
       "        [1, 2, 4]]])"
      ]
     },
     "execution_count": 15,
     "metadata": {},
     "output_type": "execute_result"
    }
   ],
   "source": [
    "arr\n",
    "arr2\n",
    "arr3"
   ]
  },
  {
   "cell_type": "code",
   "execution_count": 16,
   "id": "1536b551",
   "metadata": {},
   "outputs": [
    {
     "data": {
      "text/plain": [
       "array([1, 2, 3, 4, 5, 6, 7])"
      ]
     },
     "execution_count": 16,
     "metadata": {},
     "output_type": "execute_result"
    }
   ],
   "source": [
    "arr"
   ]
  },
  {
   "cell_type": "code",
   "execution_count": 17,
   "id": "71890b88",
   "metadata": {},
   "outputs": [
    {
     "data": {
      "text/plain": [
       "array([[1, 2, 3, 4],\n",
       "       [1, 3, 4, 5]])"
      ]
     },
     "execution_count": 17,
     "metadata": {},
     "output_type": "execute_result"
    }
   ],
   "source": [
    "arr2"
   ]
  },
  {
   "cell_type": "code",
   "execution_count": 18,
   "id": "26095f67",
   "metadata": {},
   "outputs": [
    {
     "data": {
      "text/plain": [
       "array([[[1, 2, 3],\n",
       "        [1, 2, 4]],\n",
       "\n",
       "       [[1, 2, 3],\n",
       "        [1, 2, 4]]])"
      ]
     },
     "execution_count": 18,
     "metadata": {},
     "output_type": "execute_result"
    }
   ],
   "source": [
    "arr3"
   ]
  },
  {
   "cell_type": "code",
   "execution_count": 20,
   "id": "43b79d6f",
   "metadata": {},
   "outputs": [
    {
     "data": {
      "text/plain": [
       "6"
      ]
     },
     "execution_count": 20,
     "metadata": {},
     "output_type": "execute_result"
    }
   ],
   "source": [
    "arr[1]+arr2[1][2]"
   ]
  },
  {
   "cell_type": "code",
   "execution_count": 22,
   "id": "2021e08d",
   "metadata": {},
   "outputs": [
    {
     "data": {
      "text/plain": [
       "3"
      ]
     },
     "execution_count": 22,
     "metadata": {},
     "output_type": "execute_result"
    }
   ],
   "source": [
    "arr3[1,0,2]"
   ]
  },
  {
   "cell_type": "code",
   "execution_count": 23,
   "id": "f7cbcf82",
   "metadata": {},
   "outputs": [
    {
     "data": {
      "text/plain": [
       "4"
      ]
     },
     "execution_count": 23,
     "metadata": {},
     "output_type": "execute_result"
    }
   ],
   "source": [
    "arr3[1,1,2]"
   ]
  },
  {
   "cell_type": "code",
   "execution_count": 25,
   "id": "cb054b3d",
   "metadata": {},
   "outputs": [
    {
     "data": {
      "text/plain": [
       "array([[0., 0., 0.],\n",
       "       [0., 0., 0.],\n",
       "       [0., 0., 0.]])"
      ]
     },
     "execution_count": 25,
     "metadata": {},
     "output_type": "execute_result"
    }
   ],
   "source": [
    "a=np.zeros((3,3))\n",
    "a"
   ]
  },
  {
   "cell_type": "code",
   "execution_count": 26,
   "id": "cc0fc0ca",
   "metadata": {},
   "outputs": [
    {
     "data": {
      "text/plain": [
       "array([[1, 2, 3, 4],\n",
       "       [2, 3, 4, 5],\n",
       "       [3, 4, 5, 6]])"
      ]
     },
     "execution_count": 26,
     "metadata": {},
     "output_type": "execute_result"
    }
   ],
   "source": [
    "b=np.array([[1,2,3,4],[2,3,4,5],[3,4,5,6]])\n",
    "b"
   ]
  },
  {
   "cell_type": "code",
   "execution_count": 27,
   "id": "3eb82b81",
   "metadata": {},
   "outputs": [
    {
     "data": {
      "text/plain": [
       "array([[[1, 2, 3],\n",
       "        [1, 3, 4]],\n",
       "\n",
       "       [[2, 3, 4],\n",
       "        [4, 5, 6]]])"
      ]
     },
     "execution_count": 27,
     "metadata": {},
     "output_type": "execute_result"
    }
   ],
   "source": [
    "c=np.array([[[1,2,3],[1,3,4]],[[2,3,4],[4,5,6]]])\n",
    "c"
   ]
  },
  {
   "cell_type": "code",
   "execution_count": 30,
   "id": "0537c395",
   "metadata": {},
   "outputs": [
    {
     "data": {
      "text/plain": [
       "array([0.        , 0.85714286, 1.71428571, 2.57142857, 3.42857143,\n",
       "       4.28571429, 5.14285714, 6.        ])"
      ]
     },
     "execution_count": 30,
     "metadata": {},
     "output_type": "execute_result"
    }
   ],
   "source": [
    "b=np.linspace(0,6,8)\n",
    "b"
   ]
  },
  {
   "cell_type": "code",
   "execution_count": 47,
   "id": "ffb84884",
   "metadata": {},
   "outputs": [
    {
     "data": {
      "text/plain": [
       "array([[1., 0., 0.],\n",
       "       [0., 1., 0.],\n",
       "       [0., 0., 1.]])"
      ]
     },
     "execution_count": 47,
     "metadata": {},
     "output_type": "execute_result"
    }
   ],
   "source": [
    "c=np.eye(3)\n",
    "c"
   ]
  },
  {
   "cell_type": "code",
   "execution_count": 48,
   "id": "32aedf9b",
   "metadata": {},
   "outputs": [
    {
     "data": {
      "text/plain": [
       "array([10, 13])"
      ]
     },
     "execution_count": 48,
     "metadata": {},
     "output_type": "execute_result"
    }
   ],
   "source": [
    "arr2.sum(axis=1)"
   ]
  },
  {
   "cell_type": "code",
   "execution_count": 49,
   "id": "705aa3e9",
   "metadata": {},
   "outputs": [
    {
     "data": {
      "text/plain": [
       "7"
      ]
     },
     "execution_count": 49,
     "metadata": {},
     "output_type": "execute_result"
    }
   ],
   "source": [
    "arr2.argmax()"
   ]
  },
  {
   "cell_type": "code",
   "execution_count": 50,
   "id": "e98c3916",
   "metadata": {},
   "outputs": [
    {
     "data": {
      "text/plain": [
       "0"
      ]
     },
     "execution_count": 50,
     "metadata": {},
     "output_type": "execute_result"
    }
   ],
   "source": [
    "arr2.argmin()"
   ]
  },
  {
   "cell_type": "code",
   "execution_count": 36,
   "id": "e5c24470",
   "metadata": {},
   "outputs": [
    {
     "data": {
      "text/plain": [
       "array([0, 1, 2, 3])"
      ]
     },
     "execution_count": 36,
     "metadata": {},
     "output_type": "execute_result"
    }
   ],
   "source": [
    "# slicing\n",
    "\n",
    "\n",
    "\n",
    "a=np.arange(4)\n",
    "a"
   ]
  },
  {
   "cell_type": "code",
   "execution_count": 37,
   "id": "03d49342",
   "metadata": {},
   "outputs": [
    {
     "data": {
      "text/plain": [
       "array([0, 1, 2])"
      ]
     },
     "execution_count": 37,
     "metadata": {},
     "output_type": "execute_result"
    }
   ],
   "source": [
    "a[:3]"
   ]
  },
  {
   "cell_type": "code",
   "execution_count": 38,
   "id": "03b08f06",
   "metadata": {},
   "outputs": [
    {
     "data": {
      "text/plain": [
       "array([1])"
      ]
     },
     "execution_count": 38,
     "metadata": {},
     "output_type": "execute_result"
    }
   ],
   "source": [
    "a[1:2]"
   ]
  },
  {
   "cell_type": "code",
   "execution_count": 39,
   "id": "8e038773",
   "metadata": {},
   "outputs": [
    {
     "data": {
      "text/plain": [
       "array([3, 2, 1, 0])"
      ]
     },
     "execution_count": 39,
     "metadata": {},
     "output_type": "execute_result"
    }
   ],
   "source": [
    "a[::-1]"
   ]
  },
  {
   "cell_type": "code",
   "execution_count": 40,
   "id": "9735212b",
   "metadata": {},
   "outputs": [
    {
     "data": {
      "text/plain": [
       "array([2])"
      ]
     },
     "execution_count": 40,
     "metadata": {},
     "output_type": "execute_result"
    }
   ],
   "source": [
    "a[2:-1]"
   ]
  },
  {
   "cell_type": "code",
   "execution_count": 41,
   "id": "8d8cd101",
   "metadata": {},
   "outputs": [
    {
     "data": {
      "text/plain": [
       "array([3, 1])"
      ]
     },
     "execution_count": 41,
     "metadata": {},
     "output_type": "execute_result"
    }
   ],
   "source": [
    "a[::-2]"
   ]
  },
  {
   "cell_type": "code",
   "execution_count": 43,
   "id": "89d4db7a",
   "metadata": {},
   "outputs": [
    {
     "data": {
      "text/plain": [
       "array([0.16206512, 0.82038744, 0.03476907, 0.21041146, 0.24235348,\n",
       "       0.31397984, 0.60184337])"
      ]
     },
     "execution_count": 43,
     "metadata": {},
     "output_type": "execute_result"
    }
   ],
   "source": [
    "# random values\n",
    "\n",
    "\n",
    "r=np.random.rand(7)\n",
    "r"
   ]
  },
  {
   "cell_type": "code",
   "execution_count": 45,
   "id": "70cfdf3c",
   "metadata": {},
   "outputs": [
    {
     "data": {
      "text/plain": [
       "array([0.93433556, 0.53830359, 0.84044308, 0.36476787, 0.51694792,\n",
       "       0.48205557, 0.29608075])"
      ]
     },
     "execution_count": 45,
     "metadata": {},
     "output_type": "execute_result"
    }
   ],
   "source": [
    "r1=np.random.rand(7)\n",
    "r1"
   ]
  },
  {
   "cell_type": "code",
   "execution_count": 46,
   "id": "03b907a5",
   "metadata": {},
   "outputs": [
    {
     "data": {
      "text/plain": [
       "array([0.63576537, 0.87029048, 0.45959875, 0.15784422, 0.93361388,\n",
       "       0.00497759, 0.13879407])"
      ]
     },
     "execution_count": 46,
     "metadata": {},
     "output_type": "execute_result"
    }
   ],
   "source": [
    "r2=np.random.rand(7)\n",
    "r2"
   ]
  },
  {
   "cell_type": "code",
   "execution_count": 56,
   "id": "0a05b675",
   "metadata": {},
   "outputs": [
    {
     "data": {
      "text/plain": [
       "array([[ 299,  117, 1905, 1189],\n",
       "       [ 645, 1244, 1067, 1781],\n",
       "       [  23,  500,  696, 1728],\n",
       "       [1071,  261,  856, 1625],\n",
       "       [1027,  142, 1999, 1411],\n",
       "       [1787, 1565, 1675, 1928],\n",
       "       [1555, 1620, 1885,  200],\n",
       "       [1112,  996, 1673, 1460],\n",
       "       [1361,  201,  686, 1808],\n",
       "       [ 598, 1761,  434,  274],\n",
       "       [1786, 1987,   29, 1118],\n",
       "       [ 678,  577,  386,  559],\n",
       "       [1188, 1043, 1301, 1877],\n",
       "       [ 485,  198, 1633, 1040],\n",
       "       [  83, 1508,  369,  329],\n",
       "       [1650, 1256, 1396,  776],\n",
       "       [1648,  158, 1959, 1164],\n",
       "       [1395, 1916,  912, 1963],\n",
       "       [1331, 1457, 1253,  179],\n",
       "       [ 370,  867,  134,   44],\n",
       "       [ 821, 1323,  623,  369],\n",
       "       [1722, 1133,  122,    4],\n",
       "       [1510,   34, 1042,  929],\n",
       "       [1070, 1046, 1283, 1244],\n",
       "       [  37, 1189,  901,  321],\n",
       "       [ 487, 1808,  718, 1375],\n",
       "       [1835, 1580,  254,  604],\n",
       "       [1095,  945, 1803, 1176],\n",
       "       [1232, 1785,  588,  809],\n",
       "       [ 361, 1487,  586,  725],\n",
       "       [ 185,  633, 1620, 1087],\n",
       "       [1977, 1628, 1275, 1268],\n",
       "       [ 324,  896, 1874, 1496],\n",
       "       [1324,  920,  885, 1471],\n",
       "       [1586,  537,  461,  754],\n",
       "       [ 182,  557, 1342, 1368],\n",
       "       [ 350, 1110, 1934, 1598],\n",
       "       [1293, 1559, 1382,  968],\n",
       "       [ 784,  610, 1930,  390],\n",
       "       [ 263,   68,  233,  250],\n",
       "       [ 340, 1523,  494,  154],\n",
       "       [1943, 1572,  594, 1828],\n",
       "       [ 489,   32,  594, 1943],\n",
       "       [1930,  223, 1860, 1530],\n",
       "       [  28, 1789,  114, 1716],\n",
       "       [ 713,  125, 1149, 1674],\n",
       "       [1582, 1705, 1232,  697],\n",
       "       [ 271, 1018, 1071, 1119],\n",
       "       [ 479, 1206,  670,    5],\n",
       "       [ 296, 1250, 1904, 1362],\n",
       "       [1147, 1266,   73, 1048],\n",
       "       [1387, 1643, 1172, 1431],\n",
       "       [1075,  626,   85, 1109],\n",
       "       [  93,  117,  922,  938],\n",
       "       [1272,   20, 1119,  148],\n",
       "       [ 964,  821,  605, 1124],\n",
       "       [1488,  627, 1718, 1553],\n",
       "       [1520,  738, 1016, 1310],\n",
       "       [ 515, 1977, 1289, 1638],\n",
       "       [ 737, 1961,  369, 1362],\n",
       "       [1260, 1584, 1591, 1397],\n",
       "       [1904,  700,  339,   49],\n",
       "       [ 275,  604, 1887,  570],\n",
       "       [1687,  346,  570,  958],\n",
       "       [ 425,  856, 1430,  620],\n",
       "       [ 994, 1906,  332, 1673],\n",
       "       [1533, 1872,  250,  597],\n",
       "       [1545,  846,   97, 1245],\n",
       "       [1156, 1860, 1784, 1259],\n",
       "       [ 932, 1473,  606, 1280],\n",
       "       [ 382,   29, 1661,  688],\n",
       "       [ 343, 1152,  491,  571],\n",
       "       [ 440,  613, 1791, 1890],\n",
       "       [1079, 1588,  695,  298],\n",
       "       [1825, 1970,  268, 1562],\n",
       "       [ 870, 1810,  231, 1142],\n",
       "       [ 506,  943,  649,   27],\n",
       "       [ 235, 1861,  455,  839],\n",
       "       [  88, 1536,   80,  439],\n",
       "       [1273, 1977,  733,  846],\n",
       "       [1908, 1488,  911,  560],\n",
       "       [1030, 1002,  249,  393],\n",
       "       [1582, 1962,  248, 1905],\n",
       "       [1053, 1284,  730,  269],\n",
       "       [1158,  672,  712,  338],\n",
       "       [ 374,  216, 1587,   77],\n",
       "       [1350,  960, 1330,  240],\n",
       "       [ 769,  816,  204,  646],\n",
       "       [ 539,  333,  732, 1872],\n",
       "       [ 549, 1386, 1396, 1086],\n",
       "       [1246,  246, 1654,  426],\n",
       "       [ 134,  941, 1576, 1775],\n",
       "       [ 601,  790,  225, 1732],\n",
       "       [1462, 1671, 1190, 1742],\n",
       "       [ 877,  737, 1634, 1394],\n",
       "       [1617, 1240, 1374, 1843],\n",
       "       [ 325,  346,  894, 1442],\n",
       "       [  13, 1051,  463, 1575],\n",
       "       [ 932,  575, 1721, 1090],\n",
       "       [1520, 1335,  332,  424]])"
      ]
     },
     "execution_count": 56,
     "metadata": {},
     "output_type": "execute_result"
    }
   ],
   "source": [
    "data=np.random.randint(1,2000,(100,4))\n",
    "data"
   ]
  },
  {
   "cell_type": "code",
   "execution_count": 59,
   "id": "081848bd",
   "metadata": {},
   "outputs": [],
   "source": [
    "z=data[:80,::-2]"
   ]
  },
  {
   "cell_type": "code",
   "execution_count": 60,
   "id": "9015f515",
   "metadata": {},
   "outputs": [
    {
     "data": {
      "text/plain": [
       "array([[1189,  117],\n",
       "       [1781, 1244],\n",
       "       [1728,  500],\n",
       "       [1625,  261],\n",
       "       [1411,  142],\n",
       "       [1928, 1565],\n",
       "       [ 200, 1620],\n",
       "       [1460,  996],\n",
       "       [1808,  201],\n",
       "       [ 274, 1761],\n",
       "       [1118, 1987],\n",
       "       [ 559,  577],\n",
       "       [1877, 1043],\n",
       "       [1040,  198],\n",
       "       [ 329, 1508],\n",
       "       [ 776, 1256],\n",
       "       [1164,  158],\n",
       "       [1963, 1916],\n",
       "       [ 179, 1457],\n",
       "       [  44,  867],\n",
       "       [ 369, 1323],\n",
       "       [   4, 1133],\n",
       "       [ 929,   34],\n",
       "       [1244, 1046],\n",
       "       [ 321, 1189],\n",
       "       [1375, 1808],\n",
       "       [ 604, 1580],\n",
       "       [1176,  945],\n",
       "       [ 809, 1785],\n",
       "       [ 725, 1487],\n",
       "       [1087,  633],\n",
       "       [1268, 1628],\n",
       "       [1496,  896],\n",
       "       [1471,  920],\n",
       "       [ 754,  537],\n",
       "       [1368,  557],\n",
       "       [1598, 1110],\n",
       "       [ 968, 1559],\n",
       "       [ 390,  610],\n",
       "       [ 250,   68],\n",
       "       [ 154, 1523],\n",
       "       [1828, 1572],\n",
       "       [1943,   32],\n",
       "       [1530,  223],\n",
       "       [1716, 1789],\n",
       "       [1674,  125],\n",
       "       [ 697, 1705],\n",
       "       [1119, 1018],\n",
       "       [   5, 1206],\n",
       "       [1362, 1250],\n",
       "       [1048, 1266],\n",
       "       [1431, 1643],\n",
       "       [1109,  626],\n",
       "       [ 938,  117],\n",
       "       [ 148,   20],\n",
       "       [1124,  821],\n",
       "       [1553,  627],\n",
       "       [1310,  738],\n",
       "       [1638, 1977],\n",
       "       [1362, 1961],\n",
       "       [1397, 1584],\n",
       "       [  49,  700],\n",
       "       [ 570,  604],\n",
       "       [ 958,  346],\n",
       "       [ 620,  856],\n",
       "       [1673, 1906],\n",
       "       [ 597, 1872],\n",
       "       [1245,  846],\n",
       "       [1259, 1860],\n",
       "       [1280, 1473],\n",
       "       [ 688,   29],\n",
       "       [ 571, 1152],\n",
       "       [1890,  613],\n",
       "       [ 298, 1588],\n",
       "       [1562, 1970],\n",
       "       [1142, 1810],\n",
       "       [  27,  943],\n",
       "       [ 839, 1861],\n",
       "       [ 439, 1536],\n",
       "       [ 846, 1977]])"
      ]
     },
     "execution_count": 60,
     "metadata": {},
     "output_type": "execute_result"
    }
   ],
   "source": [
    "z"
   ]
  },
  {
   "cell_type": "code",
   "execution_count": 64,
   "id": "c2eaee94",
   "metadata": {},
   "outputs": [
    {
     "name": "stdout",
     "output_type": "stream",
     "text": [
      "56.7 µs ± 2.53 µs per loop (mean ± std. dev. of 7 runs, 10,000 loops each)\n"
     ]
    }
   ],
   "source": [
    "s=range(1000)\n",
    "s \n",
    "\n",
    "%timeit [i//2 for i in s]"
   ]
  },
  {
   "cell_type": "code",
   "execution_count": 65,
   "id": "ea2fbc0d",
   "metadata": {},
   "outputs": [
    {
     "name": "stdout",
     "output_type": "stream",
     "text": [
      "1.92 µs ± 253 ns per loop (mean ± std. dev. of 7 runs, 100,000 loops each)\n"
     ]
    }
   ],
   "source": [
    "p=np.arange(1000)\n",
    "%timeit p//2"
   ]
  },
  {
   "cell_type": "code",
   "execution_count": null,
   "id": "2102759b",
   "metadata": {},
   "outputs": [],
   "source": []
  },
  {
   "cell_type": "code",
   "execution_count": null,
   "id": "e74eb229",
   "metadata": {},
   "outputs": [],
   "source": []
  },
  {
   "cell_type": "code",
   "execution_count": null,
   "id": "a793a3e2",
   "metadata": {},
   "outputs": [],
   "source": []
  },
  {
   "cell_type": "code",
   "execution_count": null,
   "id": "435f8ac6",
   "metadata": {},
   "outputs": [],
   "source": []
  },
  {
   "cell_type": "code",
   "execution_count": null,
   "id": "5f6df9ef",
   "metadata": {},
   "outputs": [],
   "source": []
  },
  {
   "cell_type": "code",
   "execution_count": null,
   "id": "0ae56d87",
   "metadata": {},
   "outputs": [],
   "source": []
  },
  {
   "cell_type": "code",
   "execution_count": null,
   "id": "d30911a4",
   "metadata": {},
   "outputs": [],
   "source": []
  },
  {
   "cell_type": "code",
   "execution_count": null,
   "id": "c79c404b",
   "metadata": {},
   "outputs": [],
   "source": []
  },
  {
   "cell_type": "code",
   "execution_count": null,
   "id": "7e1f5ecf",
   "metadata": {},
   "outputs": [],
   "source": []
  },
  {
   "cell_type": "code",
   "execution_count": null,
   "id": "97567a3b",
   "metadata": {},
   "outputs": [],
   "source": []
  },
  {
   "cell_type": "code",
   "execution_count": null,
   "id": "f7f6ec8d",
   "metadata": {},
   "outputs": [],
   "source": []
  },
  {
   "cell_type": "code",
   "execution_count": null,
   "id": "f61b54aa",
   "metadata": {},
   "outputs": [],
   "source": []
  },
  {
   "cell_type": "code",
   "execution_count": null,
   "id": "b4d622d5",
   "metadata": {},
   "outputs": [],
   "source": []
  },
  {
   "cell_type": "code",
   "execution_count": null,
   "id": "3f805ad6",
   "metadata": {},
   "outputs": [],
   "source": []
  },
  {
   "cell_type": "code",
   "execution_count": null,
   "id": "52cf5b11",
   "metadata": {},
   "outputs": [],
   "source": []
  },
  {
   "cell_type": "code",
   "execution_count": null,
   "id": "61446d3a",
   "metadata": {},
   "outputs": [],
   "source": []
  },
  {
   "cell_type": "code",
   "execution_count": null,
   "id": "4e2fb6de",
   "metadata": {},
   "outputs": [],
   "source": []
  },
  {
   "cell_type": "code",
   "execution_count": null,
   "id": "86d3798d",
   "metadata": {},
   "outputs": [],
   "source": []
  }
 ],
 "metadata": {
  "kernelspec": {
   "display_name": "Python 3 (ipykernel)",
   "language": "python",
   "name": "python3"
  },
  "language_info": {
   "codemirror_mode": {
    "name": "ipython",
    "version": 3
   },
   "file_extension": ".py",
   "mimetype": "text/x-python",
   "name": "python",
   "nbconvert_exporter": "python",
   "pygments_lexer": "ipython3",
   "version": "3.11.4"
  }
 },
 "nbformat": 4,
 "nbformat_minor": 5
}
